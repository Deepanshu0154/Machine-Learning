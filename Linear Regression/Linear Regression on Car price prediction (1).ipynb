{
 "cells": [
  {
   "cell_type": "code",
   "execution_count": 1,
   "id": "aca65c30",
   "metadata": {},
   "outputs": [],
   "source": [
    "import numpy as np\n",
    "import pandas as pd\n",
    "import matplotlib.pyplot as plt\n",
    "import seaborn as sns"
   ]
  },
  {
   "cell_type": "code",
   "execution_count": 2,
   "id": "5721e620",
   "metadata": {},
   "outputs": [],
   "source": [
    "df=pd.read_csv('car data.csv')"
   ]
  },
  {
   "cell_type": "code",
   "execution_count": 3,
   "id": "dafb7257",
   "metadata": {},
   "outputs": [
    {
     "data": {
      "text/html": [
       "<div>\n",
       "<style scoped>\n",
       "    .dataframe tbody tr th:only-of-type {\n",
       "        vertical-align: middle;\n",
       "    }\n",
       "\n",
       "    .dataframe tbody tr th {\n",
       "        vertical-align: top;\n",
       "    }\n",
       "\n",
       "    .dataframe thead th {\n",
       "        text-align: right;\n",
       "    }\n",
       "</style>\n",
       "<table border=\"1\" class=\"dataframe\">\n",
       "  <thead>\n",
       "    <tr style=\"text-align: right;\">\n",
       "      <th></th>\n",
       "      <th>Car_Name</th>\n",
       "      <th>Year</th>\n",
       "      <th>Selling_Price</th>\n",
       "      <th>Present_Price</th>\n",
       "      <th>Kms_Driven</th>\n",
       "      <th>Fuel_Type</th>\n",
       "      <th>Seller_Type</th>\n",
       "      <th>Transmission</th>\n",
       "      <th>Owner</th>\n",
       "    </tr>\n",
       "  </thead>\n",
       "  <tbody>\n",
       "    <tr>\n",
       "      <th>0</th>\n",
       "      <td>ritz</td>\n",
       "      <td>2014</td>\n",
       "      <td>3.35</td>\n",
       "      <td>5.59</td>\n",
       "      <td>27000</td>\n",
       "      <td>Petrol</td>\n",
       "      <td>Dealer</td>\n",
       "      <td>Manual</td>\n",
       "      <td>0</td>\n",
       "    </tr>\n",
       "    <tr>\n",
       "      <th>1</th>\n",
       "      <td>sx4</td>\n",
       "      <td>2013</td>\n",
       "      <td>4.75</td>\n",
       "      <td>9.54</td>\n",
       "      <td>43000</td>\n",
       "      <td>Diesel</td>\n",
       "      <td>Dealer</td>\n",
       "      <td>Manual</td>\n",
       "      <td>0</td>\n",
       "    </tr>\n",
       "    <tr>\n",
       "      <th>2</th>\n",
       "      <td>ciaz</td>\n",
       "      <td>2017</td>\n",
       "      <td>7.25</td>\n",
       "      <td>9.85</td>\n",
       "      <td>6900</td>\n",
       "      <td>Petrol</td>\n",
       "      <td>Dealer</td>\n",
       "      <td>Manual</td>\n",
       "      <td>0</td>\n",
       "    </tr>\n",
       "    <tr>\n",
       "      <th>3</th>\n",
       "      <td>wagon r</td>\n",
       "      <td>2011</td>\n",
       "      <td>2.85</td>\n",
       "      <td>4.15</td>\n",
       "      <td>5200</td>\n",
       "      <td>Petrol</td>\n",
       "      <td>Dealer</td>\n",
       "      <td>Manual</td>\n",
       "      <td>0</td>\n",
       "    </tr>\n",
       "    <tr>\n",
       "      <th>4</th>\n",
       "      <td>swift</td>\n",
       "      <td>2014</td>\n",
       "      <td>4.60</td>\n",
       "      <td>6.87</td>\n",
       "      <td>42450</td>\n",
       "      <td>Diesel</td>\n",
       "      <td>Dealer</td>\n",
       "      <td>Manual</td>\n",
       "      <td>0</td>\n",
       "    </tr>\n",
       "  </tbody>\n",
       "</table>\n",
       "</div>"
      ],
      "text/plain": [
       "  Car_Name  Year  Selling_Price  Present_Price  Kms_Driven Fuel_Type  \\\n",
       "0     ritz  2014           3.35           5.59       27000    Petrol   \n",
       "1      sx4  2013           4.75           9.54       43000    Diesel   \n",
       "2     ciaz  2017           7.25           9.85        6900    Petrol   \n",
       "3  wagon r  2011           2.85           4.15        5200    Petrol   \n",
       "4    swift  2014           4.60           6.87       42450    Diesel   \n",
       "\n",
       "  Seller_Type Transmission  Owner  \n",
       "0      Dealer       Manual      0  \n",
       "1      Dealer       Manual      0  \n",
       "2      Dealer       Manual      0  \n",
       "3      Dealer       Manual      0  \n",
       "4      Dealer       Manual      0  "
      ]
     },
     "execution_count": 3,
     "metadata": {},
     "output_type": "execute_result"
    }
   ],
   "source": [
    "df.head()"
   ]
  },
  {
   "cell_type": "code",
   "execution_count": 4,
   "id": "e4e64c89",
   "metadata": {},
   "outputs": [
    {
     "data": {
      "text/plain": [
       "(301, 9)"
      ]
     },
     "execution_count": 4,
     "metadata": {},
     "output_type": "execute_result"
    }
   ],
   "source": [
    "df.shape"
   ]
  },
  {
   "cell_type": "code",
   "execution_count": 9,
   "id": "fba00fff",
   "metadata": {},
   "outputs": [
    {
     "name": "stdout",
     "output_type": "stream",
     "text": [
      "<class 'pandas.core.frame.DataFrame'>\n",
      "RangeIndex: 301 entries, 0 to 300\n",
      "Data columns (total 9 columns):\n",
      " #   Column         Non-Null Count  Dtype  \n",
      "---  ------         --------------  -----  \n",
      " 0   Car_Name       301 non-null    object \n",
      " 1   Selling_Price  301 non-null    float64\n",
      " 2   Present_Price  301 non-null    float64\n",
      " 3   Kms_Driven     301 non-null    int64  \n",
      " 4   Fuel_Type      301 non-null    object \n",
      " 5   Seller_Type    301 non-null    object \n",
      " 6   Transmission   301 non-null    object \n",
      " 7   Owner          301 non-null    int64  \n",
      " 8   Age            301 non-null    int64  \n",
      "dtypes: float64(2), int64(3), object(4)\n",
      "memory usage: 21.3+ KB\n"
     ]
    }
   ],
   "source": [
    "df.info()"
   ]
  },
  {
   "cell_type": "code",
   "execution_count": 5,
   "id": "85ca47c4",
   "metadata": {},
   "outputs": [
    {
     "data": {
      "text/plain": [
       "Car_Name         0\n",
       "Year             0\n",
       "Selling_Price    0\n",
       "Present_Price    0\n",
       "Kms_Driven       0\n",
       "Fuel_Type        0\n",
       "Seller_Type      0\n",
       "Transmission     0\n",
       "Owner            0\n",
       "dtype: int64"
      ]
     },
     "execution_count": 5,
     "metadata": {},
     "output_type": "execute_result"
    }
   ],
   "source": [
    "df.isna().sum()"
   ]
  },
  {
   "cell_type": "code",
   "execution_count": 6,
   "id": "9340b595",
   "metadata": {},
   "outputs": [
    {
     "data": {
      "text/html": [
       "<div>\n",
       "<style scoped>\n",
       "    .dataframe tbody tr th:only-of-type {\n",
       "        vertical-align: middle;\n",
       "    }\n",
       "\n",
       "    .dataframe tbody tr th {\n",
       "        vertical-align: top;\n",
       "    }\n",
       "\n",
       "    .dataframe thead th {\n",
       "        text-align: right;\n",
       "    }\n",
       "</style>\n",
       "<table border=\"1\" class=\"dataframe\">\n",
       "  <thead>\n",
       "    <tr style=\"text-align: right;\">\n",
       "      <th></th>\n",
       "      <th>Year</th>\n",
       "      <th>Selling_Price</th>\n",
       "      <th>Present_Price</th>\n",
       "      <th>Kms_Driven</th>\n",
       "      <th>Owner</th>\n",
       "    </tr>\n",
       "  </thead>\n",
       "  <tbody>\n",
       "    <tr>\n",
       "      <th>count</th>\n",
       "      <td>301.000000</td>\n",
       "      <td>301.000000</td>\n",
       "      <td>301.000000</td>\n",
       "      <td>301.000000</td>\n",
       "      <td>301.000000</td>\n",
       "    </tr>\n",
       "    <tr>\n",
       "      <th>mean</th>\n",
       "      <td>2013.627907</td>\n",
       "      <td>4.661296</td>\n",
       "      <td>7.628472</td>\n",
       "      <td>36947.205980</td>\n",
       "      <td>0.043189</td>\n",
       "    </tr>\n",
       "    <tr>\n",
       "      <th>std</th>\n",
       "      <td>2.891554</td>\n",
       "      <td>5.082812</td>\n",
       "      <td>8.644115</td>\n",
       "      <td>38886.883882</td>\n",
       "      <td>0.247915</td>\n",
       "    </tr>\n",
       "    <tr>\n",
       "      <th>min</th>\n",
       "      <td>2003.000000</td>\n",
       "      <td>0.100000</td>\n",
       "      <td>0.320000</td>\n",
       "      <td>500.000000</td>\n",
       "      <td>0.000000</td>\n",
       "    </tr>\n",
       "    <tr>\n",
       "      <th>25%</th>\n",
       "      <td>2012.000000</td>\n",
       "      <td>0.900000</td>\n",
       "      <td>1.200000</td>\n",
       "      <td>15000.000000</td>\n",
       "      <td>0.000000</td>\n",
       "    </tr>\n",
       "    <tr>\n",
       "      <th>50%</th>\n",
       "      <td>2014.000000</td>\n",
       "      <td>3.600000</td>\n",
       "      <td>6.400000</td>\n",
       "      <td>32000.000000</td>\n",
       "      <td>0.000000</td>\n",
       "    </tr>\n",
       "    <tr>\n",
       "      <th>75%</th>\n",
       "      <td>2016.000000</td>\n",
       "      <td>6.000000</td>\n",
       "      <td>9.900000</td>\n",
       "      <td>48767.000000</td>\n",
       "      <td>0.000000</td>\n",
       "    </tr>\n",
       "    <tr>\n",
       "      <th>max</th>\n",
       "      <td>2018.000000</td>\n",
       "      <td>35.000000</td>\n",
       "      <td>92.600000</td>\n",
       "      <td>500000.000000</td>\n",
       "      <td>3.000000</td>\n",
       "    </tr>\n",
       "  </tbody>\n",
       "</table>\n",
       "</div>"
      ],
      "text/plain": [
       "              Year  Selling_Price  Present_Price     Kms_Driven       Owner\n",
       "count   301.000000     301.000000     301.000000     301.000000  301.000000\n",
       "mean   2013.627907       4.661296       7.628472   36947.205980    0.043189\n",
       "std       2.891554       5.082812       8.644115   38886.883882    0.247915\n",
       "min    2003.000000       0.100000       0.320000     500.000000    0.000000\n",
       "25%    2012.000000       0.900000       1.200000   15000.000000    0.000000\n",
       "50%    2014.000000       3.600000       6.400000   32000.000000    0.000000\n",
       "75%    2016.000000       6.000000       9.900000   48767.000000    0.000000\n",
       "max    2018.000000      35.000000      92.600000  500000.000000    3.000000"
      ]
     },
     "execution_count": 6,
     "metadata": {},
     "output_type": "execute_result"
    }
   ],
   "source": [
    "df.describe()"
   ]
  },
  {
   "cell_type": "code",
   "execution_count": 7,
   "id": "41ab6b52",
   "metadata": {},
   "outputs": [],
   "source": [
    "df['Age']=2022-df['Year']\n",
    "df.drop(columns=['Year'],inplace=True)"
   ]
  },
  {
   "cell_type": "code",
   "execution_count": 8,
   "id": "280cf145",
   "metadata": {},
   "outputs": [
    {
     "data": {
      "text/html": [
       "<div>\n",
       "<style scoped>\n",
       "    .dataframe tbody tr th:only-of-type {\n",
       "        vertical-align: middle;\n",
       "    }\n",
       "\n",
       "    .dataframe tbody tr th {\n",
       "        vertical-align: top;\n",
       "    }\n",
       "\n",
       "    .dataframe thead th {\n",
       "        text-align: right;\n",
       "    }\n",
       "</style>\n",
       "<table border=\"1\" class=\"dataframe\">\n",
       "  <thead>\n",
       "    <tr style=\"text-align: right;\">\n",
       "      <th></th>\n",
       "      <th>Car_Name</th>\n",
       "      <th>Selling_Price</th>\n",
       "      <th>Present_Price</th>\n",
       "      <th>Kms_Driven</th>\n",
       "      <th>Fuel_Type</th>\n",
       "      <th>Seller_Type</th>\n",
       "      <th>Transmission</th>\n",
       "      <th>Owner</th>\n",
       "      <th>Age</th>\n",
       "    </tr>\n",
       "  </thead>\n",
       "  <tbody>\n",
       "    <tr>\n",
       "      <th>0</th>\n",
       "      <td>ritz</td>\n",
       "      <td>3.35</td>\n",
       "      <td>5.59</td>\n",
       "      <td>27000</td>\n",
       "      <td>Petrol</td>\n",
       "      <td>Dealer</td>\n",
       "      <td>Manual</td>\n",
       "      <td>0</td>\n",
       "      <td>8</td>\n",
       "    </tr>\n",
       "    <tr>\n",
       "      <th>1</th>\n",
       "      <td>sx4</td>\n",
       "      <td>4.75</td>\n",
       "      <td>9.54</td>\n",
       "      <td>43000</td>\n",
       "      <td>Diesel</td>\n",
       "      <td>Dealer</td>\n",
       "      <td>Manual</td>\n",
       "      <td>0</td>\n",
       "      <td>9</td>\n",
       "    </tr>\n",
       "    <tr>\n",
       "      <th>2</th>\n",
       "      <td>ciaz</td>\n",
       "      <td>7.25</td>\n",
       "      <td>9.85</td>\n",
       "      <td>6900</td>\n",
       "      <td>Petrol</td>\n",
       "      <td>Dealer</td>\n",
       "      <td>Manual</td>\n",
       "      <td>0</td>\n",
       "      <td>5</td>\n",
       "    </tr>\n",
       "    <tr>\n",
       "      <th>3</th>\n",
       "      <td>wagon r</td>\n",
       "      <td>2.85</td>\n",
       "      <td>4.15</td>\n",
       "      <td>5200</td>\n",
       "      <td>Petrol</td>\n",
       "      <td>Dealer</td>\n",
       "      <td>Manual</td>\n",
       "      <td>0</td>\n",
       "      <td>11</td>\n",
       "    </tr>\n",
       "    <tr>\n",
       "      <th>4</th>\n",
       "      <td>swift</td>\n",
       "      <td>4.60</td>\n",
       "      <td>6.87</td>\n",
       "      <td>42450</td>\n",
       "      <td>Diesel</td>\n",
       "      <td>Dealer</td>\n",
       "      <td>Manual</td>\n",
       "      <td>0</td>\n",
       "      <td>8</td>\n",
       "    </tr>\n",
       "  </tbody>\n",
       "</table>\n",
       "</div>"
      ],
      "text/plain": [
       "  Car_Name  Selling_Price  Present_Price  Kms_Driven Fuel_Type Seller_Type  \\\n",
       "0     ritz           3.35           5.59       27000    Petrol      Dealer   \n",
       "1      sx4           4.75           9.54       43000    Diesel      Dealer   \n",
       "2     ciaz           7.25           9.85        6900    Petrol      Dealer   \n",
       "3  wagon r           2.85           4.15        5200    Petrol      Dealer   \n",
       "4    swift           4.60           6.87       42450    Diesel      Dealer   \n",
       "\n",
       "  Transmission  Owner  Age  \n",
       "0       Manual      0    8  \n",
       "1       Manual      0    9  \n",
       "2       Manual      0    5  \n",
       "3       Manual      0   11  \n",
       "4       Manual      0    8  "
      ]
     },
     "execution_count": 8,
     "metadata": {},
     "output_type": "execute_result"
    }
   ],
   "source": [
    "df.head()"
   ]
  },
  {
   "cell_type": "code",
   "execution_count": 10,
   "id": "ab822594",
   "metadata": {},
   "outputs": [
    {
     "data": {
      "text/plain": [
       "array([0, 1, 3], dtype=int64)"
      ]
     },
     "execution_count": 10,
     "metadata": {},
     "output_type": "execute_result"
    }
   ],
   "source": [
    "df['Owner'].unique()"
   ]
  },
  {
   "cell_type": "code",
   "execution_count": 11,
   "id": "8a053b36",
   "metadata": {},
   "outputs": [
    {
     "data": {
      "text/plain": [
       "0    290\n",
       "1     10\n",
       "3      1\n",
       "Name: Owner, dtype: int64"
      ]
     },
     "execution_count": 11,
     "metadata": {},
     "output_type": "execute_result"
    }
   ],
   "source": [
    "df['Owner'].value_counts()"
   ]
  },
  {
   "cell_type": "markdown",
   "id": "f5da28cd",
   "metadata": {},
   "source": [
    "## Exploratory Data Analysis (EDA)"
   ]
  },
  {
   "cell_type": "markdown",
   "id": "74c47ccb",
   "metadata": {},
   "source": [
    "### For Categorical Variables"
   ]
  },
  {
   "cell_type": "code",
   "execution_count": 12,
   "id": "eaae95f3",
   "metadata": {},
   "outputs": [
    {
     "name": "stderr",
     "output_type": "stream",
     "text": [
      "C:\\Users\\Deepanshu\\anaconda3\\lib\\site-packages\\seaborn\\_decorators.py:36: FutureWarning: Pass the following variable as a keyword arg: x. From version 0.12, the only valid positional argument will be `data`, and passing other arguments without an explicit keyword will result in an error or misinterpretation.\n",
      "  warnings.warn(\n"
     ]
    },
    {
     "data": {
      "image/png": "[encoded data removed]",
      "text/plain": [
       "<Figure size 432x288 with 1 Axes>"
      ]
     },
     "metadata": {
      "needs_background": "light"
     },
     "output_type": "display_data"
    }
   ],
   "source": [
    "sns.countplot(df['Fuel_Type']);\n"
   ]
  },
  {
   "cell_type": "code",
   "execution_count": 13,
   "id": "d86dd8e2",
   "metadata": {},
   "outputs": [
    {
     "name": "stderr",
     "output_type": "stream",
     "text": [
      "C:\\Users\\Deepanshu\\anaconda3\\lib\\site-packages\\seaborn\\_decorators.py:36: FutureWarning: Pass the following variable as a keyword arg: x. From version 0.12, the only valid positional argument will be `data`, and passing other arguments without an explicit keyword will result in an error or misinterpretation.\n",
      "  warnings.warn(\n"
     ]
    },
    {
     "data": {
      "image/png": "[encoded data removed]",
      "text/plain": [
       "<Figure size 432x288 with 1 Axes>"
      ]
     },
     "metadata": {
      "needs_background": "light"
     },
     "output_type": "display_data"
    }
   ],
   "source": [
    "sns.countplot(df['Seller_Type']);"
   ]
  },
  {
   "cell_type": "code",
   "execution_count": 14,
   "id": "1e45e99d",
   "metadata": {},
   "outputs": [
    {
     "name": "stderr",
     "output_type": "stream",
     "text": [
      "C:\\Users\\Deepanshu\\anaconda3\\lib\\site-packages\\seaborn\\_decorators.py:36: FutureWarning: Pass the following variable as a keyword arg: x. From version 0.12, the only valid positional argument will be `data`, and passing other arguments without an explicit keyword will result in an error or misinterpretation.\n",
      "  warnings.warn(\n"
     ]
    },
    {
     "data": {
      "image/png": "[encoded data removed]",
      "text/plain": [
       "<Figure size 432x288 with 1 Axes>"
      ]
     },
     "metadata": {
      "needs_background": "light"
     },
     "output_type": "display_data"
    }
   ],
   "source": [
    "sns.countplot(df['Transmission']);"
   ]
  },
  {
   "cell_type": "markdown",
   "id": "2020b21a",
   "metadata": {},
   "source": [
    "### for numerical"
   ]
  },
  {
   "cell_type": "code",
   "execution_count": 15,
   "id": "e54a29dc",
   "metadata": {},
   "outputs": [
    {
     "name": "stderr",
     "output_type": "stream",
     "text": [
      "C:\\Users\\Deepanshu\\anaconda3\\lib\\site-packages\\seaborn\\_decorators.py:36: FutureWarning: Pass the following variable as a keyword arg: x. From version 0.12, the only valid positional argument will be `data`, and passing other arguments without an explicit keyword will result in an error or misinterpretation.\n",
      "  warnings.warn(\n"
     ]
    },
    {
     "data": {
      "image/png": "[encoded data removed]",
      "text/plain": [
       "<Figure size 432x288 with 1 Axes>"
      ]
     },
     "metadata": {
      "needs_background": "light"
     },
     "output_type": "display_data"
    }
   ],
   "source": [
    "sns.boxplot(df['Selling_Price'],data=df);"
   ]
  },
  {
   "cell_type": "code",
   "execution_count": 16,
   "id": "feb504b5",
   "metadata": {},
   "outputs": [
    {
     "name": "stderr",
     "output_type": "stream",
     "text": [
      "C:\\Users\\Deepanshu\\anaconda3\\lib\\site-packages\\seaborn\\_decorators.py:36: FutureWarning: Pass the following variable as a keyword arg: x. From version 0.12, the only valid positional argument will be `data`, and passing other arguments without an explicit keyword will result in an error or misinterpretation.\n",
      "  warnings.warn(\n"
     ]
    },
    {
     "data": {
      "image/png": "[encoded data removed]",
      "text/plain": [
       "<Figure size 432x288 with 1 Axes>"
      ]
     },
     "metadata": {
      "needs_background": "light"
     },
     "output_type": "display_data"
    }
   ],
   "source": [
    "sns.boxplot(df['Present_Price'],data=df);"
   ]
  },
  {
   "cell_type": "code",
   "execution_count": 17,
   "id": "b7ced604",
   "metadata": {},
   "outputs": [
    {
     "name": "stderr",
     "output_type": "stream",
     "text": [
      "C:\\Users\\Deepanshu\\anaconda3\\lib\\site-packages\\seaborn\\_decorators.py:36: FutureWarning: Pass the following variable as a keyword arg: x. From version 0.12, the only valid positional argument will be `data`, and passing other arguments without an explicit keyword will result in an error or misinterpretation.\n",
      "  warnings.warn(\n"
     ]
    },
    {
     "data": {
      "image/png": "[encoded data removed]",
      "text/plain": [
       "<Figure size 432x288 with 1 Axes>"
      ]
     },
     "metadata": {
      "needs_background": "light"
     },
     "output_type": "display_data"
    }
   ],
   "source": [
    "sns.boxplot(df['Kms_Driven'],data=df);"
   ]
  },
  {
   "cell_type": "code",
   "execution_count": 18,
   "id": "828f9626",
   "metadata": {},
   "outputs": [
    {
     "data": {
      "text/plain": [
       "<pandas.core.groupby.generic.SeriesGroupBy object at 0x000001B1E105A220>"
      ]
     },
     "execution_count": 18,
     "metadata": {},
     "output_type": "execute_result"
    }
   ],
   "source": [
    "df.groupby(['Kms_Driven','Present_Price'])['Selling_Price']"
   ]
  },
  {
   "cell_type": "code",
   "execution_count": 19,
   "id": "b0e02ad9",
   "metadata": {},
   "outputs": [
    {
     "data": {
      "text/plain": [
       "Selling_Price    1.000000\n",
       "Present_Price    0.878983\n",
       "Kms_Driven       0.029187\n",
       "Owner           -0.088344\n",
       "Age             -0.236141\n",
       "Name: Selling_Price, dtype: float64"
      ]
     },
     "execution_count": 19,
     "metadata": {},
     "output_type": "execute_result"
    }
   ],
   "source": [
    "df.corr()['Selling_Price']"
   ]
  },
  {
   "cell_type": "code",
   "execution_count": 20,
   "id": "adadf50a",
   "metadata": {},
   "outputs": [
    {
     "data": {
      "image/png": "[encoded data removed]",
      "text/plain": [
       "<Figure size 432x288 with 2 Axes>"
      ]
     },
     "metadata": {
      "needs_background": "light"
     },
     "output_type": "display_data"
    }
   ],
   "source": [
    "sns.heatmap(df.corr(),annot=True);"
   ]
  },
  {
   "cell_type": "code",
   "execution_count": 21,
   "id": "9f56ccf3",
   "metadata": {},
   "outputs": [],
   "source": [
    "df.drop(columns=['Car_Name'],inplace=True)"
   ]
  },
  {
   "cell_type": "markdown",
   "id": "0a9fa183",
   "metadata": {},
   "source": [
    "### One Hot Encoding"
   ]
  },
  {
   "cell_type": "code",
   "execution_count": 22,
   "id": "8b7be10a",
   "metadata": {},
   "outputs": [],
   "source": [
    "df=pd.get_dummies(df,columns=['Fuel_Type','Seller_Type','Transmission'])"
   ]
  },
  {
   "cell_type": "code",
   "execution_count": 23,
   "id": "624783af",
   "metadata": {},
   "outputs": [
    {
     "data": {
      "text/html": [
       "<div>\n",
       "<style scoped>\n",
       "    .dataframe tbody tr th:only-of-type {\n",
       "        vertical-align: middle;\n",
       "    }\n",
       "\n",
       "    .dataframe tbody tr th {\n",
       "        vertical-align: top;\n",
       "    }\n",
       "\n",
       "    .dataframe thead th {\n",
       "        text-align: right;\n",
       "    }\n",
       "</style>\n",
       "<table border=\"1\" class=\"dataframe\">\n",
       "  <thead>\n",
       "    <tr style=\"text-align: right;\">\n",
       "      <th></th>\n",
       "      <th>Selling_Price</th>\n",
       "      <th>Present_Price</th>\n",
       "      <th>Kms_Driven</th>\n",
       "      <th>Owner</th>\n",
       "      <th>Age</th>\n",
       "      <th>Fuel_Type_CNG</th>\n",
       "      <th>Fuel_Type_Diesel</th>\n",
       "      <th>Fuel_Type_Petrol</th>\n",
       "      <th>Seller_Type_Dealer</th>\n",
       "      <th>Seller_Type_Individual</th>\n",
       "      <th>Transmission_Automatic</th>\n",
       "      <th>Transmission_Manual</th>\n",
       "    </tr>\n",
       "  </thead>\n",
       "  <tbody>\n",
       "    <tr>\n",
       "      <th>0</th>\n",
       "      <td>3.35</td>\n",
       "      <td>5.59</td>\n",
       "      <td>27000</td>\n",
       "      <td>0</td>\n",
       "      <td>8</td>\n",
       "      <td>0</td>\n",
       "      <td>0</td>\n",
       "      <td>1</td>\n",
       "      <td>1</td>\n",
       "      <td>0</td>\n",
       "      <td>0</td>\n",
       "      <td>1</td>\n",
       "    </tr>\n",
       "    <tr>\n",
       "      <th>1</th>\n",
       "      <td>4.75</td>\n",
       "      <td>9.54</td>\n",
       "      <td>43000</td>\n",
       "      <td>0</td>\n",
       "      <td>9</td>\n",
       "      <td>0</td>\n",
       "      <td>1</td>\n",
       "      <td>0</td>\n",
       "      <td>1</td>\n",
       "      <td>0</td>\n",
       "      <td>0</td>\n",
       "      <td>1</td>\n",
       "    </tr>\n",
       "    <tr>\n",
       "      <th>2</th>\n",
       "      <td>7.25</td>\n",
       "      <td>9.85</td>\n",
       "      <td>6900</td>\n",
       "      <td>0</td>\n",
       "      <td>5</td>\n",
       "      <td>0</td>\n",
       "      <td>0</td>\n",
       "      <td>1</td>\n",
       "      <td>1</td>\n",
       "      <td>0</td>\n",
       "      <td>0</td>\n",
       "      <td>1</td>\n",
       "    </tr>\n",
       "    <tr>\n",
       "      <th>3</th>\n",
       "      <td>2.85</td>\n",
       "      <td>4.15</td>\n",
       "      <td>5200</td>\n",
       "      <td>0</td>\n",
       "      <td>11</td>\n",
       "      <td>0</td>\n",
       "      <td>0</td>\n",
       "      <td>1</td>\n",
       "      <td>1</td>\n",
       "      <td>0</td>\n",
       "      <td>0</td>\n",
       "      <td>1</td>\n",
       "    </tr>\n",
       "    <tr>\n",
       "      <th>4</th>\n",
       "      <td>4.60</td>\n",
       "      <td>6.87</td>\n",
       "      <td>42450</td>\n",
       "      <td>0</td>\n",
       "      <td>8</td>\n",
       "      <td>0</td>\n",
       "      <td>1</td>\n",
       "      <td>0</td>\n",
       "      <td>1</td>\n",
       "      <td>0</td>\n",
       "      <td>0</td>\n",
       "      <td>1</td>\n",
       "    </tr>\n",
       "  </tbody>\n",
       "</table>\n",
       "</div>"
      ],
      "text/plain": [
       "   Selling_Price  Present_Price  Kms_Driven  Owner  Age  Fuel_Type_CNG  \\\n",
       "0           3.35           5.59       27000      0    8              0   \n",
       "1           4.75           9.54       43000      0    9              0   \n",
       "2           7.25           9.85        6900      0    5              0   \n",
       "3           2.85           4.15        5200      0   11              0   \n",
       "4           4.60           6.87       42450      0    8              0   \n",
       "\n",
       "   Fuel_Type_Diesel  Fuel_Type_Petrol  Seller_Type_Dealer  \\\n",
       "0                 0                 1                   1   \n",
       "1                 1                 0                   1   \n",
       "2                 0                 1                   1   \n",
       "3                 0                 1                   1   \n",
       "4                 1                 0                   1   \n",
       "\n",
       "   Seller_Type_Individual  Transmission_Automatic  Transmission_Manual  \n",
       "0                       0                       0                    1  \n",
       "1                       0                       0                    1  \n",
       "2                       0                       0                    1  \n",
       "3                       0                       0                    1  \n",
       "4                       0                       0                    1  "
      ]
     },
     "execution_count": 23,
     "metadata": {},
     "output_type": "execute_result"
    }
   ],
   "source": [
    "df.head()"
   ]
  },
  {
   "cell_type": "markdown",
   "id": "4ff358ec",
   "metadata": {},
   "source": [
    "### Feature Selection"
   ]
  },
  {
   "cell_type": "code",
   "execution_count": 24,
   "id": "9a230581",
   "metadata": {},
   "outputs": [],
   "source": [
    "Y=df['Selling_Price']\n",
    "X=df.drop(columns=['Selling_Price'])"
   ]
  },
  {
   "cell_type": "code",
   "execution_count": 25,
   "id": "3869d640",
   "metadata": {},
   "outputs": [
    {
     "data": {
      "text/plain": [
       "(301, 11)"
      ]
     },
     "execution_count": 25,
     "metadata": {},
     "output_type": "execute_result"
    }
   ],
   "source": [
    "X.shape"
   ]
  },
  {
   "cell_type": "code",
   "execution_count": 26,
   "id": "1c6bb2a0",
   "metadata": {},
   "outputs": [
    {
     "data": {
      "text/plain": [
       "(301,)"
      ]
     },
     "execution_count": 26,
     "metadata": {},
     "output_type": "execute_result"
    }
   ],
   "source": [
    "Y.shape"
   ]
  },
  {
   "cell_type": "code",
   "execution_count": 27,
   "id": "90749f29",
   "metadata": {},
   "outputs": [
    {
     "data": {
      "text/plain": [
       "Selling_Price              2.493422\n",
       "Present_Price              4.083150\n",
       "Kms_Driven                 6.436013\n",
       "Owner                      7.616850\n",
       "Age                        1.246189\n",
       "Fuel_Type_CNG             12.206146\n",
       "Fuel_Type_Diesel           1.512750\n",
       "Fuel_Type_Petrol          -1.461340\n",
       "Seller_Type_Dealer        -0.622146\n",
       "Seller_Type_Individual     0.622146\n",
       "Transmission_Automatic     2.173776\n",
       "Transmission_Manual       -2.173776\n",
       "dtype: float64"
      ]
     },
     "execution_count": 27,
     "metadata": {},
     "output_type": "execute_result"
    }
   ],
   "source": [
    "df.skew(axis=0)"
   ]
  },
  {
   "cell_type": "code",
   "execution_count": 28,
   "id": "a389c707",
   "metadata": {},
   "outputs": [],
   "source": [
    "import scipy.stats as st\n",
    "import pylab"
   ]
  },
  {
   "cell_type": "code",
   "execution_count": 29,
   "id": "39a54688",
   "metadata": {},
   "outputs": [
    {
     "data": {
      "image/png": "[encoded data removed]",
      "text/plain": [
       "<Figure size 432x288 with 1 Axes>"
      ]
     },
     "metadata": {
      "needs_background": "light"
     },
     "output_type": "display_data"
    }
   ],
   "source": [
    "st.probplot(df['Selling_Price'],dist='norm',plot=pylab);"
   ]
  },
  {
   "cell_type": "code",
   "execution_count": 30,
   "id": "9ab96f21",
   "metadata": {},
   "outputs": [
    {
     "data": {
      "text/plain": [
       "array([ 1.35827922,  1.81194176,  2.40296342,  1.15820204,  1.76899159,\n",
       "        2.76554917,  2.29973946,  2.24578292,  2.68136758,  2.44264064,\n",
       "        1.15820204,  2.32086898,  2.4524248 ,  2.1558438 ,  0.87639577,\n",
       "        2.50056675,  2.40296342,  2.50056675,  1.32030054,  1.07011795,\n",
       "        1.15820204,  1.85380574,  1.70992182,  1.00044485,  1.17943691,\n",
       "        1.22103106,  1.6329417 ,  2.13261379,  0.71182082,  2.44264064,\n",
       "        1.26151565,  0.92729487,  1.86752946,  2.13261379,  2.01151917,\n",
       "        1.20037692,  1.78343289, -0.95220279,  1.22103106,  0.87639577,\n",
       "        2.09717302,  1.02403713,  0.71182082,  2.01151917,  0.22791734,\n",
       "        2.4524248 ,  1.07011795,  0.04901588,  2.08519564,  2.50056675,\n",
       "        3.52527245,  4.27926686,  3.84595064,  3.64477466,  1.11480952,\n",
       "        1.44935332,  1.73972285,  1.81194176,  1.61709638,  4.02886311,\n",
       "        2.34174982,  1.73972285,  3.91672746,  4.31825146,  4.95515453,\n",
       "        1.81194176,  4.00760853,  2.76554917,  1.69481484,  3.45125269,\n",
       "        1.56860122,  1.73972285,  2.44264064,  1.07011795,  1.85380574,\n",
       "        1.56860122,  2.01151917,  0.42141072,  1.94758938,  3.48003965,\n",
       "        3.50617032,  1.81194176,  4.27926686,  3.23738986,  1.40993378,\n",
       "        1.00044485,  5.06975385,  2.10906766,  1.3953494 ,  1.81194176,\n",
       "        1.51858889,  3.06922327,  1.41717519,  4.27926686,  1.58492974,\n",
       "        2.09717302,  4.09483142,  3.74776329,  2.36238843,  2.83027675,\n",
       "        0.59029172,  0.55815732,  0.5252471 ,  0.38492524,  0.30878148,\n",
       "        0.30878148,  0.30878148,  0.22791734,  0.18550023,  0.18550023,\n",
       "        0.18550023,  0.14162479,  0.14162479,  0.14162479,  0.14162479,\n",
       "        0.10539634,  0.09617407,  0.09617407,  0.09617407,  0.04901588,\n",
       "        0.04901588,  0.04901588,  0.04901588,  0.        , -0.05104539,\n",
       "       -0.1043181 , -0.1043181 , -0.27999867, -0.21850215, -0.24271609,\n",
       "       -0.27999867, -0.27999867, -0.27999867, -0.3185109 , -0.41370745,\n",
       "       -0.41370745, -0.41370745, -0.41370745, -0.48693417, -0.48693417,\n",
       "       -0.48693417, -0.48693417, -0.48693417, -0.48693417, -0.48693417,\n",
       "       -0.48693417, -0.56528912, -0.56528912, -0.61511948, -0.63224791,\n",
       "       -0.6496509 , -0.6496509 , -0.6496509 , -0.6496509 , -0.6496509 ,\n",
       "       -0.68532123, -0.68532123, -0.68532123, -0.68532123, -0.74115644,\n",
       "       -0.74115644, -0.74115644, -0.74115644, -0.74115644, -0.74115644,\n",
       "       -0.74115644, -0.74115644, -0.80009667, -0.80009667, -0.84131618,\n",
       "       -0.84131618, -0.84131618, -0.84131618, -0.84131618, -0.8842424 ,\n",
       "       -0.8842424 , -0.95220279, -0.95220279, -0.95220279, -1.05058307,\n",
       "       -1.07677885, -1.07677885, -1.07677885, -1.15986048, -1.21951039,\n",
       "       -1.21951039, -1.21951039, -1.21951039, -1.21951039, -1.38763497,\n",
       "       -1.38763497, -1.38763497, -1.38763497, -1.38763497, -1.38763497,\n",
       "       -1.46458583, -1.505695  , -1.54881438, -1.59417765, -1.74682485,\n",
       "       -1.86685381,  1.32030054,  1.70992182,  1.20037692,  1.11480952,\n",
       "        1.94758938,  2.07313424,  1.92132465,  2.52885052,  1.83996799,\n",
       "        1.26151565,  3.1382244 ,  3.06922327,  1.17943691,  1.94758938,\n",
       "        1.73972285,  1.17943691,  1.28136208,  2.23479025,  1.73972285,\n",
       "        1.41355868,  1.73972285,  2.13261379,  2.59319013,  1.91070286,\n",
       "        1.09263153,  1.94758938,  1.02403713,  1.86752946,  1.26151565,\n",
       "        2.16734318,  2.76554917,  3.09711646,  1.55210422,  2.01151917,\n",
       "        2.74069031,  1.26151565,  3.06922327,  1.82601406,  0.74061465,\n",
       "        1.9734515 ,  1.81194176,  1.70992182,  2.19011636,  2.12088084,\n",
       "        1.93450822,  1.50156226,  2.12088084,  1.58492974,  1.94758938,\n",
       "        3.28831896,  1.88114122,  1.98623583,  2.3929056 ,  1.94758938,\n",
       "        1.22103106,  2.92340291,  2.63780472,  2.62008825,  1.55210422,\n",
       "        2.74901328,  2.01151917,  1.58492974,  2.26756414,  1.58492974,\n",
       "        2.24578292,  1.46694912,  2.6111658 ,  1.82601406,  2.28907936,\n",
       "        1.61709638,  1.22103106,  2.4524248 ,  0.87639577,  1.9605699 ,\n",
       "        3.01942745,  2.6640651 ,  2.83821391,  2.13261379,  2.19011636,\n",
       "        1.94758938,  0.79649371,  2.59319013,  2.72224844,  1.41355868,\n",
       "        2.43280309,  2.04875401,  2.07313424,  2.62008825,  2.90207695,\n",
       "        1.73972285,  1.98623583,  2.22372824,  1.32030054,  1.50156226,\n",
       "        2.64659964,  2.80626347,  1.58492974,  1.35827922,  3.10402797,\n",
       "        1.9605699 ])"
      ]
     },
     "execution_count": 30,
     "metadata": {},
     "output_type": "execute_result"
    }
   ],
   "source": [
    "sp=st.boxcox(df['Selling_Price'])\n",
    "sp=sp[0]\n",
    "sp"
   ]
  },
  {
   "cell_type": "code",
   "execution_count": 31,
   "id": "21115db6",
   "metadata": {},
   "outputs": [
    {
     "data": {
      "image/png": "[encoded data removed]",
      "text/plain": [
       "<Figure size 432x288 with 1 Axes>"
      ]
     },
     "metadata": {
      "needs_background": "light"
     },
     "output_type": "display_data"
    }
   ],
   "source": [
    "st.probplot(sp,dist='norm',plot=pylab);"
   ]
  },
  {
   "cell_type": "code",
   "execution_count": 32,
   "id": "69db1ab8",
   "metadata": {},
   "outputs": [],
   "source": [
    "from sklearn.preprocessing import StandardScaler"
   ]
  },
  {
   "cell_type": "code",
   "execution_count": 33,
   "id": "a6c92a3f",
   "metadata": {},
   "outputs": [
    {
     "data": {
      "text/plain": [
       "array([[-0.23621461, -0.25622446, -0.17450057, ..., -0.73728539,\n",
       "        -0.39148015,  0.39148015],\n",
       "       [ 0.22150462,  0.1559105 , -0.17450057, ..., -0.73728539,\n",
       "        -0.39148015,  0.39148015],\n",
       "       [ 0.25742689, -0.77396901, -0.17450057, ..., -0.73728539,\n",
       "        -0.39148015,  0.39148015],\n",
       "       ...,\n",
       "       [ 0.39068691,  1.31334003, -0.17450057, ..., -0.73728539,\n",
       "        -0.39148015,  0.39148015],\n",
       "       [ 0.56450434, -0.7198763 , -0.17450057, ..., -0.73728539,\n",
       "        -0.39148015,  0.39148015],\n",
       "       [-0.20029235, -0.81095812, -0.17450057, ..., -0.73728539,\n",
       "        -0.39148015,  0.39148015]])"
      ]
     },
     "execution_count": 33,
     "metadata": {},
     "output_type": "execute_result"
    }
   ],
   "source": [
    "scaler=StandardScaler()\n",
    "X_scaled=scaler.fit_transform(X)\n",
    "X_scaled"
   ]
  },
  {
   "cell_type": "code",
   "execution_count": 34,
   "id": "7e512345",
   "metadata": {},
   "outputs": [
    {
     "data": {
      "text/plain": [
       "-0.0"
      ]
     },
     "execution_count": 34,
     "metadata": {},
     "output_type": "execute_result"
    }
   ],
   "source": [
    "round(np.mean(X_scaled),2)"
   ]
  },
  {
   "cell_type": "code",
   "execution_count": 35,
   "id": "760616d2",
   "metadata": {},
   "outputs": [
    {
     "data": {
      "text/plain": [
       "1.0"
      ]
     },
     "execution_count": 35,
     "metadata": {},
     "output_type": "execute_result"
    }
   ],
   "source": [
    "np.var(X_scaled)"
   ]
  },
  {
   "cell_type": "code",
   "execution_count": 36,
   "id": "92a42555",
   "metadata": {},
   "outputs": [],
   "source": [
    "from sklearn.model_selection import train_test_split"
   ]
  },
  {
   "cell_type": "code",
   "execution_count": 37,
   "id": "1347f996",
   "metadata": {},
   "outputs": [],
   "source": [
    "X_train, X_test, Y_train, Y_test = train_test_split(X_scaled, Y, test_size=0.2, random_state=1)"
   ]
  },
  {
   "cell_type": "code",
   "execution_count": 39,
   "id": "40f3c69a",
   "metadata": {},
   "outputs": [
    {
     "name": "stdout",
     "output_type": "stream",
     "text": [
      "(240, 11) (240,)\n"
     ]
    }
   ],
   "source": [
    "print(X_train.shape,Y_train.shape)"
   ]
  },
  {
   "cell_type": "code",
   "execution_count": 40,
   "id": "bf474e10",
   "metadata": {},
   "outputs": [
    {
     "name": "stdout",
     "output_type": "stream",
     "text": [
      "(61, 11) (61,)\n"
     ]
    }
   ],
   "source": [
    "print(X_test.shape,Y_test.shape)"
   ]
  },
  {
   "cell_type": "code",
   "execution_count": 41,
   "id": "d418bec5",
   "metadata": {},
   "outputs": [],
   "source": [
    "from sklearn.linear_model import LinearRegression"
   ]
  },
  {
   "cell_type": "code",
   "execution_count": 42,
   "id": "97d1f0eb",
   "metadata": {},
   "outputs": [
    {
     "data": {
      "text/plain": [
       "LinearRegression()"
      ]
     },
     "execution_count": 42,
     "metadata": {},
     "output_type": "execute_result"
    }
   ],
   "source": [
    "regression = LinearRegression()\n",
    "regression.fit(X_train,Y_train)"
   ]
  },
  {
   "cell_type": "code",
   "execution_count": 43,
   "id": "85c58162",
   "metadata": {},
   "outputs": [
    {
     "data": {
      "text/plain": [
       "0.8822783397439672"
      ]
     },
     "execution_count": 43,
     "metadata": {},
     "output_type": "execute_result"
    }
   ],
   "source": [
    "regression.score(X_train,Y_train)"
   ]
  },
  {
   "cell_type": "code",
   "execution_count": 44,
   "id": "b93dc4b7",
   "metadata": {},
   "outputs": [
    {
     "data": {
      "text/plain": [
       "0.8625260513315233"
      ]
     },
     "execution_count": 44,
     "metadata": {},
     "output_type": "execute_result"
    }
   ],
   "source": [
    "regression.score(X_test,Y_test)"
   ]
  },
  {
   "cell_type": "code",
   "execution_count": 45,
   "id": "d4f285a2",
   "metadata": {},
   "outputs": [],
   "source": [
    "def adj_r2(X,Y):\n",
    "    r2=regression.score(X,Y)\n",
    "    n=X.shape[0]\n",
    "    p=X.shape[1]\n",
    "    adjusted_r2=1-(1-r2)*(n-1)/(n-p-1)\n",
    "    return adjusted_r2"
   ]
  },
  {
   "cell_type": "code",
   "execution_count": 46,
   "id": "f61d59c4",
   "metadata": {},
   "outputs": [
    {
     "data": {
      "text/plain": [
       "0.8765987859596849"
      ]
     },
     "execution_count": 46,
     "metadata": {},
     "output_type": "execute_result"
    }
   ],
   "source": [
    "adj_r2(X_train,Y_train)"
   ]
  },
  {
   "cell_type": "code",
   "execution_count": 47,
   "id": "9254bb1f",
   "metadata": {},
   "outputs": [
    {
     "data": {
      "text/plain": [
       "0.8316645526508448"
      ]
     },
     "execution_count": 47,
     "metadata": {},
     "output_type": "execute_result"
    }
   ],
   "source": [
    "adj_r2(X_test,Y_test)"
   ]
  },
  {
   "cell_type": "code",
   "execution_count": 48,
   "id": "e293b130",
   "metadata": {},
   "outputs": [],
   "source": [
    "y_pred=regression.predict(X_test)"
   ]
  },
  {
   "cell_type": "code",
   "execution_count": 49,
   "id": "2a375adf",
   "metadata": {},
   "outputs": [
    {
     "data": {
      "text/plain": [
       "2.982384861859792"
      ]
     },
     "execution_count": 49,
     "metadata": {},
     "output_type": "execute_result"
    }
   ],
   "source": [
    "# mean square error\n",
    "from sklearn.metrics import mean_squared_error\n",
    "mse=mean_squared_error(Y_test,y_pred)\n",
    "mse"
   ]
  },
  {
   "cell_type": "code",
   "execution_count": 50,
   "id": "072eac14",
   "metadata": {},
   "outputs": [
    {
     "data": {
      "text/plain": [
       "1.491192430929896"
      ]
     },
     "execution_count": 50,
     "metadata": {},
     "output_type": "execute_result"
    }
   ],
   "source": [
    "# Root mean square error\n",
    "rmse=0.5*mse\n",
    "rmse"
   ]
  },
  {
   "cell_type": "code",
   "execution_count": 51,
   "id": "5caff2fc",
   "metadata": {},
   "outputs": [],
   "source": [
    "from sklearn.metrics import mean_absolute_percentage_error"
   ]
  },
  {
   "cell_type": "code",
   "execution_count": 52,
   "id": "df1b4143",
   "metadata": {},
   "outputs": [
    {
     "data": {
      "text/plain": [
       "1.2702924543512402"
      ]
     },
     "execution_count": 52,
     "metadata": {},
     "output_type": "execute_result"
    }
   ],
   "source": [
    "#mean absolute percentage error\n",
    "mean_absolute_percentage_error(Y_test, y_pred)"
   ]
  },
  {
   "cell_type": "markdown",
   "id": "aaa422d1",
   "metadata": {},
   "source": [
    "### Checking Regularization"
   ]
  },
  {
   "cell_type": "code",
   "execution_count": 53,
   "id": "42a8dd2b",
   "metadata": {},
   "outputs": [],
   "source": [
    "from sklearn.linear_model  import Ridge,Lasso,RidgeCV, LassoCV, ElasticNet, ElasticNetCV, LinearRegression"
   ]
  },
  {
   "cell_type": "code",
   "execution_count": 54,
   "id": "97f78a87",
   "metadata": {},
   "outputs": [
    {
     "data": {
      "text/plain": [
       "LassoCV(cv=10, max_iter=100000, normalize=True)"
      ]
     },
     "execution_count": 54,
     "metadata": {},
     "output_type": "execute_result"
    }
   ],
   "source": [
    "lasscv = LassoCV(alphas = None,cv =10, max_iter = 100000, normalize = True)\n",
    "lasscv.fit(X_train, Y_train)"
   ]
  },
  {
   "cell_type": "code",
   "execution_count": 55,
   "id": "1f02638b",
   "metadata": {},
   "outputs": [
    {
     "data": {
      "text/plain": [
       "0.0033749591682577644"
      ]
     },
     "execution_count": 55,
     "metadata": {},
     "output_type": "execute_result"
    }
   ],
   "source": [
    "# best alpha parameter\n",
    "alpha = lasscv.alpha_\n",
    "alpha"
   ]
  },
  {
   "cell_type": "code",
   "execution_count": 56,
   "id": "c2a6ff09",
   "metadata": {},
   "outputs": [
    {
     "data": {
      "text/plain": [
       "Lasso(alpha=0.0033749591682577644)"
      ]
     },
     "execution_count": 56,
     "metadata": {},
     "output_type": "execute_result"
    }
   ],
   "source": [
    "#now that we have best parameter, let's use Lasso regression and see how well our data has fitted before\n",
    "\n",
    "lasso_reg = Lasso(alpha)\n",
    "lasso_reg.fit(X_train, Y_train)"
   ]
  },
  {
   "cell_type": "code",
   "execution_count": 57,
   "id": "3d810023",
   "metadata": {},
   "outputs": [
    {
     "data": {
      "text/plain": [
       "0.8637452257774441"
      ]
     },
     "execution_count": 57,
     "metadata": {},
     "output_type": "execute_result"
    }
   ],
   "source": [
    "lasso_reg.score(X_test, Y_test)"
   ]
  },
  {
   "cell_type": "code",
   "execution_count": 58,
   "id": "3beed01c",
   "metadata": {},
   "outputs": [
    {
     "data": {
      "text/plain": [
       "Index(['Present_Price', 'Kms_Driven', 'Owner', 'Age', 'Fuel_Type_CNG',\n",
       "       'Fuel_Type_Diesel', 'Fuel_Type_Petrol', 'Seller_Type_Dealer',\n",
       "       'Seller_Type_Individual', 'Transmission_Automatic',\n",
       "       'Transmission_Manual'],\n",
       "      dtype='object')"
      ]
     },
     "execution_count": 58,
     "metadata": {},
     "output_type": "execute_result"
    }
   ],
   "source": [
    "X.columns"
   ]
  },
  {
   "cell_type": "code",
   "execution_count": 59,
   "id": "7ac37d88",
   "metadata": {},
   "outputs": [],
   "source": [
    "import statsmodels.formula.api as smf"
   ]
  },
  {
   "cell_type": "code",
   "execution_count": 60,
   "id": "f26f1b09",
   "metadata": {},
   "outputs": [
    {
     "data": {
      "text/html": [
       "<table class=\"simpletable\">\n",
       "<caption>OLS Regression Results</caption>\n",
       "<tr>\n",
       "  <th>Dep. Variable:</th>      <td>Selling_Price</td>  <th>  R-squared:         </th> <td>   0.883</td> \n",
       "</tr>\n",
       "<tr>\n",
       "  <th>Model:</th>                   <td>OLS</td>       <th>  Adj. R-squared:    </th> <td>   0.879</td> \n",
       "</tr>\n",
       "<tr>\n",
       "  <th>Method:</th>             <td>Least Squares</td>  <th>  F-statistic:       </th> <td>   274.3</td> \n",
       "</tr>\n",
       "<tr>\n",
       "  <th>Date:</th>             <td>Mon, 04 Apr 2022</td> <th>  Prob (F-statistic):</th> <td>5.71e-131</td>\n",
       "</tr>\n",
       "<tr>\n",
       "  <th>Time:</th>                 <td>23:05:50</td>     <th>  Log-Likelihood:    </th> <td> -593.62</td> \n",
       "</tr>\n",
       "<tr>\n",
       "  <th>No. Observations:</th>      <td>   301</td>      <th>  AIC:               </th> <td>   1205.</td> \n",
       "</tr>\n",
       "<tr>\n",
       "  <th>Df Residuals:</th>          <td>   292</td>      <th>  BIC:               </th> <td>   1239.</td> \n",
       "</tr>\n",
       "<tr>\n",
       "  <th>Df Model:</th>              <td>     8</td>      <th>                     </th>     <td> </td>    \n",
       "</tr>\n",
       "<tr>\n",
       "  <th>Covariance Type:</th>      <td>nonrobust</td>    <th>                     </th>     <td> </td>    \n",
       "</tr>\n",
       "</table>\n",
       "<table class=\"simpletable\">\n",
       "<tr>\n",
       "             <td></td>               <th>coef</th>     <th>std err</th>      <th>t</th>      <th>P>|t|</th>  <th>[0.025</th>    <th>0.975]</th>  \n",
       "</tr>\n",
       "<tr>\n",
       "  <th>Intercept</th>              <td>    2.2810</td> <td>    0.239</td> <td>    9.535</td> <td> 0.000</td> <td>    1.810</td> <td>    2.752</td>\n",
       "</tr>\n",
       "<tr>\n",
       "  <th>Present_Price</th>          <td>    0.4372</td> <td>    0.016</td> <td>   27.355</td> <td> 0.000</td> <td>    0.406</td> <td>    0.469</td>\n",
       "</tr>\n",
       "<tr>\n",
       "  <th>Kms_Driven</th>             <td>-7.013e-06</td> <td> 3.23e-06</td> <td>   -2.172</td> <td> 0.031</td> <td>-1.34e-05</td> <td>-6.57e-07</td>\n",
       "</tr>\n",
       "<tr>\n",
       "  <th>Owner</th>                  <td>   -0.6742</td> <td>    0.423</td> <td>   -1.595</td> <td> 0.112</td> <td>   -1.506</td> <td>    0.158</td>\n",
       "</tr>\n",
       "<tr>\n",
       "  <th>Age</th>                    <td>   -0.3931</td> <td>    0.043</td> <td>   -9.159</td> <td> 0.000</td> <td>   -0.478</td> <td>   -0.309</td>\n",
       "</tr>\n",
       "<tr>\n",
       "  <th>Fuel_Type_CNG</th>          <td>   -0.2655</td> <td>    0.900</td> <td>   -0.295</td> <td> 0.768</td> <td>   -2.037</td> <td>    1.506</td>\n",
       "</tr>\n",
       "<tr>\n",
       "  <th>Fuel_Type_Diesel</th>       <td>    2.2044</td> <td>    0.409</td> <td>    5.389</td> <td> 0.000</td> <td>    1.399</td> <td>    3.010</td>\n",
       "</tr>\n",
       "<tr>\n",
       "  <th>Fuel_Type_Petrol</th>       <td>    0.3421</td> <td>    0.379</td> <td>    0.902</td> <td> 0.368</td> <td>   -0.404</td> <td>    1.089</td>\n",
       "</tr>\n",
       "<tr>\n",
       "  <th>Seller_Type_Dealer</th>     <td>    1.7012</td> <td>    0.172</td> <td>    9.913</td> <td> 0.000</td> <td>    1.363</td> <td>    2.039</td>\n",
       "</tr>\n",
       "<tr>\n",
       "  <th>Seller_Type_Individual</th> <td>    0.5799</td> <td>    0.179</td> <td>    3.238</td> <td> 0.001</td> <td>    0.227</td> <td>    0.932</td>\n",
       "</tr>\n",
       "<tr>\n",
       "  <th>Transmission_Automatic</th> <td>    1.8646</td> <td>    0.227</td> <td>    8.201</td> <td> 0.000</td> <td>    1.417</td> <td>    2.312</td>\n",
       "</tr>\n",
       "<tr>\n",
       "  <th>Transmission_Manual</th>    <td>    0.4164</td> <td>    0.175</td> <td>    2.378</td> <td> 0.018</td> <td>    0.072</td> <td>    0.761</td>\n",
       "</tr>\n",
       "</table>\n",
       "<table class=\"simpletable\">\n",
       "<tr>\n",
       "  <th>Omnibus:</th>       <td>95.107</td> <th>  Durbin-Watson:     </th> <td>   1.795</td> \n",
       "</tr>\n",
       "<tr>\n",
       "  <th>Prob(Omnibus):</th> <td> 0.000</td> <th>  Jarque-Bera (JB):  </th> <td> 696.392</td> \n",
       "</tr>\n",
       "<tr>\n",
       "  <th>Skew:</th>          <td> 1.075</td> <th>  Prob(JB):          </th> <td>6.03e-152</td>\n",
       "</tr>\n",
       "<tr>\n",
       "  <th>Kurtosis:</th>      <td>10.135</td> <th>  Cond. No.          </th> <td>6.82e+20</td> \n",
       "</tr>\n",
       "</table><br/><br/>Notes:<br/>[1] Standard Errors assume that the covariance matrix of the errors is correctly specified.<br/>[2] The smallest eigenvalue is 1.86e-30. This might indicate that there are<br/>strong multicollinearity problems or that the design matrix is singular."
      ],
      "text/plain": [
       "<class 'statsmodels.iolib.summary.Summary'>\n",
       "\"\"\"\n",
       "                            OLS Regression Results                            \n",
       "==============================================================================\n",
       "Dep. Variable:          Selling_Price   R-squared:                       0.883\n",
       "Model:                            OLS   Adj. R-squared:                  0.879\n",
       "Method:                 Least Squares   F-statistic:                     274.3\n",
       "Date:                Mon, 04 Apr 2022   Prob (F-statistic):          5.71e-131\n",
       "Time:                        23:05:50   Log-Likelihood:                -593.62\n",
       "No. Observations:                 301   AIC:                             1205.\n",
       "Df Residuals:                     292   BIC:                             1239.\n",
       "Df Model:                           8                                         \n",
       "Covariance Type:            nonrobust                                         \n",
       "==========================================================================================\n",
       "                             coef    std err          t      P>|t|      [0.025      0.975]\n",
       "------------------------------------------------------------------------------------------\n",
       "Intercept                  2.2810      0.239      9.535      0.000       1.810       2.752\n",
       "Present_Price              0.4372      0.016     27.355      0.000       0.406       0.469\n",
       "Kms_Driven             -7.013e-06   3.23e-06     -2.172      0.031   -1.34e-05   -6.57e-07\n",
       "Owner                     -0.6742      0.423     -1.595      0.112      -1.506       0.158\n",
       "Age                       -0.3931      0.043     -9.159      0.000      -0.478      -0.309\n",
       "Fuel_Type_CNG             -0.2655      0.900     -0.295      0.768      -2.037       1.506\n",
       "Fuel_Type_Diesel           2.2044      0.409      5.389      0.000       1.399       3.010\n",
       "Fuel_Type_Petrol           0.3421      0.379      0.902      0.368      -0.404       1.089\n",
       "Seller_Type_Dealer         1.7012      0.172      9.913      0.000       1.363       2.039\n",
       "Seller_Type_Individual     0.5799      0.179      3.238      0.001       0.227       0.932\n",
       "Transmission_Automatic     1.8646      0.227      8.201      0.000       1.417       2.312\n",
       "Transmission_Manual        0.4164      0.175      2.378      0.018       0.072       0.761\n",
       "==============================================================================\n",
       "Omnibus:                       95.107   Durbin-Watson:                   1.795\n",
       "Prob(Omnibus):                  0.000   Jarque-Bera (JB):              696.392\n",
       "Skew:                           1.075   Prob(JB):                    6.03e-152\n",
       "Kurtosis:                      10.135   Cond. No.                     6.82e+20\n",
       "==============================================================================\n",
       "\n",
       "Notes:\n",
       "[1] Standard Errors assume that the covariance matrix of the errors is correctly specified.\n",
       "[2] The smallest eigenvalue is 1.86e-30. This might indicate that there are\n",
       "strong multicollinearity problems or that the design matrix is singular.\n",
       "\"\"\""
      ]
     },
     "execution_count": 60,
     "metadata": {},
     "output_type": "execute_result"
    }
   ],
   "source": [
    "lm = smf.ols(formula='Selling_Price ~ Present_Price + Kms_Driven + Owner + Age + Fuel_Type_CNG + Fuel_Type_Diesel + Fuel_Type_Petrol + Seller_Type_Dealer + Seller_Type_Individual + Transmission_Automatic + Transmission_Manual', data=df).fit()\n",
    "lm.conf_int()\n",
    "lm.summary()"
   ]
  },
  {
   "cell_type": "code",
   "execution_count": 61,
   "id": "e4b4048b",
   "metadata": {},
   "outputs": [],
   "source": [
    "X.drop(columns=['Owner','Fuel_Type_CNG','Fuel_Type_Petrol'],inplace=True)"
   ]
  },
  {
   "cell_type": "code",
   "execution_count": 62,
   "id": "c2c73aa3",
   "metadata": {},
   "outputs": [
    {
     "data": {
      "text/html": [
       "<div>\n",
       "<style scoped>\n",
       "    .dataframe tbody tr th:only-of-type {\n",
       "        vertical-align: middle;\n",
       "    }\n",
       "\n",
       "    .dataframe tbody tr th {\n",
       "        vertical-align: top;\n",
       "    }\n",
       "\n",
       "    .dataframe thead th {\n",
       "        text-align: right;\n",
       "    }\n",
       "</style>\n",
       "<table border=\"1\" class=\"dataframe\">\n",
       "  <thead>\n",
       "    <tr style=\"text-align: right;\">\n",
       "      <th></th>\n",
       "      <th>Present_Price</th>\n",
       "      <th>Kms_Driven</th>\n",
       "      <th>Age</th>\n",
       "      <th>Fuel_Type_Diesel</th>\n",
       "      <th>Seller_Type_Dealer</th>\n",
       "      <th>Seller_Type_Individual</th>\n",
       "      <th>Transmission_Automatic</th>\n",
       "      <th>Transmission_Manual</th>\n",
       "    </tr>\n",
       "  </thead>\n",
       "  <tbody>\n",
       "    <tr>\n",
       "      <th>0</th>\n",
       "      <td>5.59</td>\n",
       "      <td>27000</td>\n",
       "      <td>8</td>\n",
       "      <td>0</td>\n",
       "      <td>1</td>\n",
       "      <td>0</td>\n",
       "      <td>0</td>\n",
       "      <td>1</td>\n",
       "    </tr>\n",
       "    <tr>\n",
       "      <th>1</th>\n",
       "      <td>9.54</td>\n",
       "      <td>43000</td>\n",
       "      <td>9</td>\n",
       "      <td>1</td>\n",
       "      <td>1</td>\n",
       "      <td>0</td>\n",
       "      <td>0</td>\n",
       "      <td>1</td>\n",
       "    </tr>\n",
       "    <tr>\n",
       "      <th>2</th>\n",
       "      <td>9.85</td>\n",
       "      <td>6900</td>\n",
       "      <td>5</td>\n",
       "      <td>0</td>\n",
       "      <td>1</td>\n",
       "      <td>0</td>\n",
       "      <td>0</td>\n",
       "      <td>1</td>\n",
       "    </tr>\n",
       "    <tr>\n",
       "      <th>3</th>\n",
       "      <td>4.15</td>\n",
       "      <td>5200</td>\n",
       "      <td>11</td>\n",
       "      <td>0</td>\n",
       "      <td>1</td>\n",
       "      <td>0</td>\n",
       "      <td>0</td>\n",
       "      <td>1</td>\n",
       "    </tr>\n",
       "    <tr>\n",
       "      <th>4</th>\n",
       "      <td>6.87</td>\n",
       "      <td>42450</td>\n",
       "      <td>8</td>\n",
       "      <td>1</td>\n",
       "      <td>1</td>\n",
       "      <td>0</td>\n",
       "      <td>0</td>\n",
       "      <td>1</td>\n",
       "    </tr>\n",
       "    <tr>\n",
       "      <th>...</th>\n",
       "      <td>...</td>\n",
       "      <td>...</td>\n",
       "      <td>...</td>\n",
       "      <td>...</td>\n",
       "      <td>...</td>\n",
       "      <td>...</td>\n",
       "      <td>...</td>\n",
       "      <td>...</td>\n",
       "    </tr>\n",
       "    <tr>\n",
       "      <th>296</th>\n",
       "      <td>11.60</td>\n",
       "      <td>33988</td>\n",
       "      <td>6</td>\n",
       "      <td>1</td>\n",
       "      <td>1</td>\n",
       "      <td>0</td>\n",
       "      <td>0</td>\n",
       "      <td>1</td>\n",
       "    </tr>\n",
       "    <tr>\n",
       "      <th>297</th>\n",
       "      <td>5.90</td>\n",
       "      <td>60000</td>\n",
       "      <td>7</td>\n",
       "      <td>0</td>\n",
       "      <td>1</td>\n",
       "      <td>0</td>\n",
       "      <td>0</td>\n",
       "      <td>1</td>\n",
       "    </tr>\n",
       "    <tr>\n",
       "      <th>298</th>\n",
       "      <td>11.00</td>\n",
       "      <td>87934</td>\n",
       "      <td>13</td>\n",
       "      <td>0</td>\n",
       "      <td>1</td>\n",
       "      <td>0</td>\n",
       "      <td>0</td>\n",
       "      <td>1</td>\n",
       "    </tr>\n",
       "    <tr>\n",
       "      <th>299</th>\n",
       "      <td>12.50</td>\n",
       "      <td>9000</td>\n",
       "      <td>5</td>\n",
       "      <td>1</td>\n",
       "      <td>1</td>\n",
       "      <td>0</td>\n",
       "      <td>0</td>\n",
       "      <td>1</td>\n",
       "    </tr>\n",
       "    <tr>\n",
       "      <th>300</th>\n",
       "      <td>5.90</td>\n",
       "      <td>5464</td>\n",
       "      <td>6</td>\n",
       "      <td>0</td>\n",
       "      <td>1</td>\n",
       "      <td>0</td>\n",
       "      <td>0</td>\n",
       "      <td>1</td>\n",
       "    </tr>\n",
       "  </tbody>\n",
       "</table>\n",
       "<p>301 rows × 8 columns</p>\n",
       "</div>"
      ],
      "text/plain": [
       "     Present_Price  Kms_Driven  Age  Fuel_Type_Diesel  Seller_Type_Dealer  \\\n",
       "0             5.59       27000    8                 0                   1   \n",
       "1             9.54       43000    9                 1                   1   \n",
       "2             9.85        6900    5                 0                   1   \n",
       "3             4.15        5200   11                 0                   1   \n",
       "4             6.87       42450    8                 1                   1   \n",
       "..             ...         ...  ...               ...                 ...   \n",
       "296          11.60       33988    6                 1                   1   \n",
       "297           5.90       60000    7                 0                   1   \n",
       "298          11.00       87934   13                 0                   1   \n",
       "299          12.50        9000    5                 1                   1   \n",
       "300           5.90        5464    6                 0                   1   \n",
       "\n",
       "     Seller_Type_Individual  Transmission_Automatic  Transmission_Manual  \n",
       "0                         0                       0                    1  \n",
       "1                         0                       0                    1  \n",
       "2                         0                       0                    1  \n",
       "3                         0                       0                    1  \n",
       "4                         0                       0                    1  \n",
       "..                      ...                     ...                  ...  \n",
       "296                       0                       0                    1  \n",
       "297                       0                       0                    1  \n",
       "298                       0                       0                    1  \n",
       "299                       0                       0                    1  \n",
       "300                       0                       0                    1  \n",
       "\n",
       "[301 rows x 8 columns]"
      ]
     },
     "execution_count": 62,
     "metadata": {},
     "output_type": "execute_result"
    }
   ],
   "source": [
    "X"
   ]
  },
  {
   "cell_type": "code",
   "execution_count": 63,
   "id": "6fae7778",
   "metadata": {},
   "outputs": [
    {
     "data": {
      "text/plain": [
       "array([[-0.23621461, -0.25622446, -0.128897  , ..., -0.73728539,\n",
       "        -0.39148015,  0.39148015],\n",
       "       [ 0.22150462,  0.1559105 ,  0.21751369, ..., -0.73728539,\n",
       "        -0.39148015,  0.39148015],\n",
       "       [ 0.25742689, -0.77396901, -1.16812909, ..., -0.73728539,\n",
       "        -0.39148015,  0.39148015],\n",
       "       ...,\n",
       "       [ 0.39068691,  1.31334003,  1.60315648, ..., -0.73728539,\n",
       "        -0.39148015,  0.39148015],\n",
       "       [ 0.56450434, -0.7198763 , -1.16812909, ..., -0.73728539,\n",
       "        -0.39148015,  0.39148015],\n",
       "       [-0.20029235, -0.81095812, -0.8217184 , ..., -0.73728539,\n",
       "        -0.39148015,  0.39148015]])"
      ]
     },
     "execution_count": 63,
     "metadata": {},
     "output_type": "execute_result"
    }
   ],
   "source": [
    "scaler=StandardScaler()\n",
    "X_scaled=scaler.fit_transform(X)\n",
    "X_scaled"
   ]
  },
  {
   "cell_type": "code",
   "execution_count": 64,
   "id": "1daece32",
   "metadata": {},
   "outputs": [
    {
     "data": {
      "text/plain": [
       "-0.0"
      ]
     },
     "execution_count": 64,
     "metadata": {},
     "output_type": "execute_result"
    }
   ],
   "source": [
    "round(np.mean(X_scaled),2)"
   ]
  },
  {
   "cell_type": "code",
   "execution_count": 65,
   "id": "17d39cca",
   "metadata": {},
   "outputs": [
    {
     "data": {
      "text/plain": [
       "1.0"
      ]
     },
     "execution_count": 65,
     "metadata": {},
     "output_type": "execute_result"
    }
   ],
   "source": [
    "np.var(X_scaled)"
   ]
  },
  {
   "cell_type": "code",
   "execution_count": 66,
   "id": "dbe20839",
   "metadata": {},
   "outputs": [],
   "source": [
    "X_train, X_test, Y_train, Y_test = train_test_split(X_scaled, Y, test_size=0.2, random_state=1)"
   ]
  },
  {
   "cell_type": "code",
   "execution_count": 69,
   "id": "61077cf2",
   "metadata": {},
   "outputs": [
    {
     "name": "stdout",
     "output_type": "stream",
     "text": [
      "(240, 8) (240,)\n"
     ]
    }
   ],
   "source": [
    "print(X_train.shape,Y_train.shape)"
   ]
  },
  {
   "cell_type": "code",
   "execution_count": 70,
   "id": "d7052968",
   "metadata": {},
   "outputs": [
    {
     "name": "stdout",
     "output_type": "stream",
     "text": [
      "(61, 8) (61,)\n"
     ]
    }
   ],
   "source": [
    "print(X_test.shape,Y_test.shape)"
   ]
  },
  {
   "cell_type": "code",
   "execution_count": 71,
   "id": "d8b72163",
   "metadata": {},
   "outputs": [
    {
     "data": {
      "text/plain": [
       "LinearRegression()"
      ]
     },
     "execution_count": 71,
     "metadata": {},
     "output_type": "execute_result"
    }
   ],
   "source": [
    "regression = LinearRegression()\n",
    "\n",
    "regression.fit(X_train,Y_train)"
   ]
  },
  {
   "cell_type": "code",
   "execution_count": 72,
   "id": "6cd9b4bf",
   "metadata": {},
   "outputs": [
    {
     "data": {
      "text/plain": [
       "0.8821373810652041"
      ]
     },
     "execution_count": 72,
     "metadata": {},
     "output_type": "execute_result"
    }
   ],
   "source": [
    "regression.score(X_train,Y_train)"
   ]
  },
  {
   "cell_type": "code",
   "execution_count": 73,
   "id": "469a53e1",
   "metadata": {},
   "outputs": [
    {
     "data": {
      "text/plain": [
       "0.8712818980940388"
      ]
     },
     "execution_count": 73,
     "metadata": {},
     "output_type": "execute_result"
    }
   ],
   "source": [
    "regression.score(X_test,Y_test)"
   ]
  },
  {
   "cell_type": "code",
   "execution_count": 74,
   "id": "0bd86765",
   "metadata": {},
   "outputs": [],
   "source": [
    "def adj_r2(X,Y):\n",
    "    r2=regression.score(X,Y)\n",
    "    n=X.shape[0]\n",
    "    p=X.shape[1]\n",
    "    adjusted_r2=1-(1-r2)*(n-1)/(n-p-1)\n",
    "    return adjusted_r2"
   ]
  },
  {
   "cell_type": "code",
   "execution_count": 75,
   "id": "65f64e99",
   "metadata": {},
   "outputs": [
    {
     "data": {
      "text/plain": [
       "0.878055558764432"
      ]
     },
     "execution_count": 75,
     "metadata": {},
     "output_type": "execute_result"
    }
   ],
   "source": [
    "adj_r2(X_train,Y_train)"
   ]
  },
  {
   "cell_type": "code",
   "execution_count": 76,
   "id": "1bb3e54c",
   "metadata": {},
   "outputs": [
    {
     "data": {
      "text/plain": [
       "0.8514791131854293"
      ]
     },
     "execution_count": 76,
     "metadata": {},
     "output_type": "execute_result"
    }
   ],
   "source": [
    "adj_r2(X_test,Y_test)"
   ]
  },
  {
   "cell_type": "code",
   "execution_count": 77,
   "id": "eb11d259",
   "metadata": {},
   "outputs": [
    {
     "name": "stdout",
     "output_type": "stream",
     "text": [
      "[ 7.86049779e+00  2.97360240e+00 -5.70428184e-01  4.21549271e+00\n",
      "  4.98655012e-01  5.82052178e+00  1.96721765e+00  2.56491400e+00\n",
      "  7.70767934e+00  9.90279658e-01  8.14435436e+00  3.51512851e+00\n",
      "  4.90941178e+00  4.29516845e+00 -2.48303968e+00  3.14554532e+00\n",
      "  7.99001149e+00  6.77098531e+00  6.90433663e+00  8.02249285e+00\n",
      "  4.31908874e+00  4.01108672e+00  1.13002912e+01  8.07834916e+00\n",
      "  8.50962084e+00  3.98123690e+00  3.80973984e+00  1.07298936e+00\n",
      " -5.89176799e-01 -6.02480063e-01  1.54708347e-02 -1.26632130e+00\n",
      "  4.28728662e+00  2.06763014e+01  1.87557647e+01  4.27490304e+00\n",
      "  3.49176828e+00  1.67910254e+00 -3.73486037e-01  5.78666080e+00\n",
      "  8.03508883e+00  9.89016020e+00  7.85376922e-02  6.09099810e+00\n",
      "  5.88837802e+00  4.33017253e+00  7.38486775e+00  5.86172263e+00\n",
      "  8.21962030e+00  1.66582878e+00  3.83406466e+00  1.76046489e+00\n",
      "  2.52172473e+00  4.20252252e+00  1.50215346e+00 -3.41748009e+00\n",
      "  2.04759996e+01  6.77305174e-01  5.40092301e+00  5.65820269e+00\n",
      "  6.64593750e-01]\n"
     ]
    },
    {
     "data": {
      "text/plain": [
       "61"
      ]
     },
     "execution_count": 77,
     "metadata": {},
     "output_type": "execute_result"
    }
   ],
   "source": [
    "y_pred=regression.predict(X_test)\n",
    "print(y_pred)\n",
    "len(y_pred)"
   ]
  },
  {
   "cell_type": "code",
   "execution_count": 78,
   "id": "e719da9c",
   "metadata": {},
   "outputs": [
    {
     "data": {
      "text/plain": [
       "['Present_Price',\n",
       " 'Kms_Driven',\n",
       " 'Age',\n",
       " 'Fuel_Type_Diesel',\n",
       " 'Seller_Type_Dealer',\n",
       " 'Seller_Type_Individual',\n",
       " 'Transmission_Automatic',\n",
       " 'Transmission_Manual']"
      ]
     },
     "execution_count": 78,
     "metadata": {},
     "output_type": "execute_result"
    }
   ],
   "source": [
    "list(X)"
   ]
  },
  {
   "cell_type": "code",
   "execution_count": 79,
   "id": "ba0c3daf",
   "metadata": {},
   "outputs": [
    {
     "data": {
      "text/html": [
       "<table class=\"simpletable\">\n",
       "<caption>OLS Regression Results</caption>\n",
       "<tr>\n",
       "  <th>Dep. Variable:</th>      <td>Selling_Price</td>  <th>  R-squared:         </th> <td>   0.881</td> \n",
       "</tr>\n",
       "<tr>\n",
       "  <th>Model:</th>                   <td>OLS</td>       <th>  Adj. R-squared:    </th> <td>   0.879</td> \n",
       "</tr>\n",
       "<tr>\n",
       "  <th>Method:</th>             <td>Least Squares</td>  <th>  F-statistic:       </th> <td>   364.4</td> \n",
       "</tr>\n",
       "<tr>\n",
       "  <th>Date:</th>             <td>Mon, 04 Apr 2022</td> <th>  Prob (F-statistic):</th> <td>6.18e-133</td>\n",
       "</tr>\n",
       "<tr>\n",
       "  <th>Time:</th>                 <td>23:06:06</td>     <th>  Log-Likelihood:    </th> <td> -595.04</td> \n",
       "</tr>\n",
       "<tr>\n",
       "  <th>No. Observations:</th>      <td>   301</td>      <th>  AIC:               </th> <td>   1204.</td> \n",
       "</tr>\n",
       "<tr>\n",
       "  <th>Df Residuals:</th>          <td>   294</td>      <th>  BIC:               </th> <td>   1230.</td> \n",
       "</tr>\n",
       "<tr>\n",
       "  <th>Df Model:</th>              <td>     6</td>      <th>                     </th>     <td> </td>    \n",
       "</tr>\n",
       "<tr>\n",
       "  <th>Covariance Type:</th>      <td>nonrobust</td>    <th>                     </th>     <td> </td>    \n",
       "</tr>\n",
       "</table>\n",
       "<table class=\"simpletable\">\n",
       "<tr>\n",
       "             <td></td>               <th>coef</th>     <th>std err</th>      <th>t</th>      <th>P>|t|</th>  <th>[0.025</th>    <th>0.975]</th>  \n",
       "</tr>\n",
       "<tr>\n",
       "  <th>Intercept</th>              <td>    2.4755</td> <td>    0.181</td> <td>   13.666</td> <td> 0.000</td> <td>    2.119</td> <td>    2.832</td>\n",
       "</tr>\n",
       "<tr>\n",
       "  <th>Present_Price</th>          <td>    0.4358</td> <td>    0.016</td> <td>   27.287</td> <td> 0.000</td> <td>    0.404</td> <td>    0.467</td>\n",
       "</tr>\n",
       "<tr>\n",
       "  <th>Kms_Driven</th>             <td>-7.026e-06</td> <td> 3.23e-06</td> <td>   -2.173</td> <td> 0.031</td> <td>-1.34e-05</td> <td>-6.63e-07</td>\n",
       "</tr>\n",
       "<tr>\n",
       "  <th>Age</th>                    <td>   -0.4032</td> <td>    0.043</td> <td>   -9.482</td> <td> 0.000</td> <td>   -0.487</td> <td>   -0.319</td>\n",
       "</tr>\n",
       "<tr>\n",
       "  <th>Fuel_Type_Diesel</th>       <td>    1.8827</td> <td>    0.299</td> <td>    6.302</td> <td> 0.000</td> <td>    1.295</td> <td>    2.471</td>\n",
       "</tr>\n",
       "<tr>\n",
       "  <th>Seller_Type_Dealer</th>     <td>    1.8195</td> <td>    0.159</td> <td>   11.416</td> <td> 0.000</td> <td>    1.506</td> <td>    2.133</td>\n",
       "</tr>\n",
       "<tr>\n",
       "  <th>Seller_Type_Individual</th> <td>    0.6560</td> <td>    0.152</td> <td>    4.303</td> <td> 0.000</td> <td>    0.356</td> <td>    0.956</td>\n",
       "</tr>\n",
       "<tr>\n",
       "  <th>Transmission_Automatic</th> <td>    1.9550</td> <td>    0.214</td> <td>    9.119</td> <td> 0.000</td> <td>    1.533</td> <td>    2.377</td>\n",
       "</tr>\n",
       "<tr>\n",
       "  <th>Transmission_Manual</th>    <td>    0.5206</td> <td>    0.156</td> <td>    3.343</td> <td> 0.001</td> <td>    0.214</td> <td>    0.827</td>\n",
       "</tr>\n",
       "</table>\n",
       "<table class=\"simpletable\">\n",
       "<tr>\n",
       "  <th>Omnibus:</th>       <td>93.228</td> <th>  Durbin-Watson:     </th> <td>   1.782</td> \n",
       "</tr>\n",
       "<tr>\n",
       "  <th>Prob(Omnibus):</th> <td> 0.000</td> <th>  Jarque-Bera (JB):  </th> <td> 692.402</td> \n",
       "</tr>\n",
       "<tr>\n",
       "  <th>Skew:</th>          <td> 1.043</td> <th>  Prob(JB):          </th> <td>4.43e-151</td>\n",
       "</tr>\n",
       "<tr>\n",
       "  <th>Kurtosis:</th>      <td>10.131</td> <th>  Cond. No.          </th> <td>3.59e+20</td> \n",
       "</tr>\n",
       "</table><br/><br/>Notes:<br/>[1] Standard Errors assume that the covariance matrix of the errors is correctly specified.<br/>[2] The smallest eigenvalue is 6.72e-30. This might indicate that there are<br/>strong multicollinearity problems or that the design matrix is singular."
      ],
      "text/plain": [
       "<class 'statsmodels.iolib.summary.Summary'>\n",
       "\"\"\"\n",
       "                            OLS Regression Results                            \n",
       "==============================================================================\n",
       "Dep. Variable:          Selling_Price   R-squared:                       0.881\n",
       "Model:                            OLS   Adj. R-squared:                  0.879\n",
       "Method:                 Least Squares   F-statistic:                     364.4\n",
       "Date:                Mon, 04 Apr 2022   Prob (F-statistic):          6.18e-133\n",
       "Time:                        23:06:06   Log-Likelihood:                -595.04\n",
       "No. Observations:                 301   AIC:                             1204.\n",
       "Df Residuals:                     294   BIC:                             1230.\n",
       "Df Model:                           6                                         \n",
       "Covariance Type:            nonrobust                                         \n",
       "==========================================================================================\n",
       "                             coef    std err          t      P>|t|      [0.025      0.975]\n",
       "------------------------------------------------------------------------------------------\n",
       "Intercept                  2.4755      0.181     13.666      0.000       2.119       2.832\n",
       "Present_Price              0.4358      0.016     27.287      0.000       0.404       0.467\n",
       "Kms_Driven             -7.026e-06   3.23e-06     -2.173      0.031   -1.34e-05   -6.63e-07\n",
       "Age                       -0.4032      0.043     -9.482      0.000      -0.487      -0.319\n",
       "Fuel_Type_Diesel           1.8827      0.299      6.302      0.000       1.295       2.471\n",
       "Seller_Type_Dealer         1.8195      0.159     11.416      0.000       1.506       2.133\n",
       "Seller_Type_Individual     0.6560      0.152      4.303      0.000       0.356       0.956\n",
       "Transmission_Automatic     1.9550      0.214      9.119      0.000       1.533       2.377\n",
       "Transmission_Manual        0.5206      0.156      3.343      0.001       0.214       0.827\n",
       "==============================================================================\n",
       "Omnibus:                       93.228   Durbin-Watson:                   1.782\n",
       "Prob(Omnibus):                  0.000   Jarque-Bera (JB):              692.402\n",
       "Skew:                           1.043   Prob(JB):                    4.43e-151\n",
       "Kurtosis:                      10.131   Cond. No.                     3.59e+20\n",
       "==============================================================================\n",
       "\n",
       "Notes:\n",
       "[1] Standard Errors assume that the covariance matrix of the errors is correctly specified.\n",
       "[2] The smallest eigenvalue is 6.72e-30. This might indicate that there are\n",
       "strong multicollinearity problems or that the design matrix is singular.\n",
       "\"\"\""
      ]
     },
     "execution_count": 79,
     "metadata": {},
     "output_type": "execute_result"
    }
   ],
   "source": [
    "lm = smf.ols(formula='Selling_Price ~ Present_Price + Kms_Driven  + Age  + Fuel_Type_Diesel  + Seller_Type_Dealer + Seller_Type_Individual + Transmission_Automatic + Transmission_Manual', data=df).fit()\n",
    "lm.conf_int()\n",
    "lm.summary()"
   ]
  }
 ],
 "metadata": {
  "kernelspec": {
   "display_name": "Python 3",
   "language": "python",
   "name": "python3"
  },
  "language_info": {
   "codemirror_mode": {
    "name": "ipython",
    "version": 3
   },
   "file_extension": ".py",
   "mimetype": "text/x-python",
   "name": "python",
   "nbconvert_exporter": "python",
   "pygments_lexer": "ipython3",
   "version": "3.8.8"
  }
 },
 "nbformat": 4,
 "nbformat_minor": 5
}
